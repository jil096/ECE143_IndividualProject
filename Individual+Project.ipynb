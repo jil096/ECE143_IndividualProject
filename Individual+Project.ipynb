{
 "cells": [
  {
   "cell_type": "markdown",
   "metadata": {},
   "source": [
    "## Assumptions:\n",
    "\n",
    "● The height and width of each rectangular section is sampled from a \n",
    "uniform distribution.\n",
    "\n",
    "● Positions of the windows are also determined by uniform random \n",
    "distribution.\n",
    "\n",
    "● When a new tower comes online, if its coverage rectangle intersects the pre-existing\n",
    "composite footprint, then that new tower’s coverage is trimmed such that its maximum remaining coverage area is retained (see sequential diagram below).\n"
   ]
  },
  {
   "cell_type": "code",
   "execution_count": null,
   "metadata": {
    "collapsed": true
   },
   "outputs": [],
   "source": [
    "def calc_coverage(sizeX,sizeY,n):\n",
    "    '''\n",
    "    Given an overall desired coverage footprint and a sequence of n communications towers, \n",
    "    what is the resulting resolved coverage?\n",
    "    \n",
    "    :param sizeX: width of overall desired coverage footprint\n",
    "    :type sizeX: int\n",
    "    :param sizeY: height of overall desired coverage footprint\n",
    "    :type sizeY: int\n",
    "    :param n: number of communications towers\n",
    "    :returns: area of resulting resolved coverage\n",
    "    '''\n",
    "    \n",
    "    assert isinstance(sizeX, int)\n",
    "    assert isinstance(sizeY, int)\n",
    "    assert isinstance(n, int)\n",
    "    assert sizeX > 0 and sizeY > 0 \n",
    "    \n",
    "    import random\n",
    "    import numpy as np\n",
    "    \n",
    "    \n",
    "    list1 = [0 for d in range(sizeX)]\n",
    "    matrix = [list1 for d in range(sizeY)]\n",
    "        \n",
    "    for i in range(n):\n",
    "        posX = random.randint(1, sizeX)\n",
    "        posY = random.randint(1, sizeY)\n",
    "        width = random.randint(1, sizeX)\n",
    "        height = random.randint(1, sizeY)\n",
    "        \n",
    "        if i == 0:\n",
    "            matrix[posX][posY:posY+height] = 1\n",
    "        \n",
    "        "
   ]
  },
  {
   "cell_type": "markdown",
   "metadata": {},
   "source": [
    "## Algorithm:\n",
    "    1. Based on input sizeX, sizeY, create corresponding size matrix, filled with all 0s at first.\n",
    "    2. Every time a rectangle is put on footprint, add 1 to all the covered area. \n",
    "    For example, if the original footprint is 6x6, it looks like:\n",
    "    0 0 0 0 0 0\n",
    "    0 0 0 0 0 0\n",
    "    0 0 0 0 0 0\n",
    "    0 0 0 0 0 0\n",
    "    0 0 0 0 0 0\n",
    "    0 0 0 0 0 0\n",
    "    First, a 1x4 rectangle is placed in middle:\n",
    "    0 0 0 0 0 0\n",
    "    0 0 0 0 0 0\n",
    "    0 0 0 0 0 0\n",
    "    0 0 0 0 0 0\n",
    "    0 1 1 1 1 0\n",
    "    0 0 0 0 0 0\n",
    "    The above matrix would be currentmap, the first input of trim_overlap. \n",
    "    \n",
    "    Then, when the second rectangle 2x4 is placed, firstly, it results in:\n",
    "    0 0 0 0 0 0\n",
    "    0 0 0 0 0 0\n",
    "    0 0 0 0 0 0\n",
    "    0 0 1 1 1 1\n",
    "    0 1 2 2 2 1\n",
    "    0 0 0 0 0 0\n",
    "    \n",
    "    Remove the overlapped part, the new shape is left like:\n",
    "    0 0 1 1 1 1 \n",
    "    0 X X X X 1\n",
    "    \n",
    "    In this way, I am counting the maximum area from each row, record all possibilities and find the largest area. Assume the remaining new shape has n rows and m columns, it would take O(m*n^2).\n",
    "    \n",
    "    "
   ]
  },
  {
   "cell_type": "code",
   "execution_count": null,
   "metadata": {
    "collapsed": true
   },
   "outputs": [],
   "source": [
    "def trim_overlap(currentmap, newShape):\n",
    "    '''\n",
    "    Given current footprint represented in a matrix filled with 1&0, and new rectangle's position,\n",
    "    return the new trimmed footprint.\n",
    "    \n",
    "    :param currentmap: 2d matrix filled with 1/0\n",
    "    :type currentmap: matrix\n",
    "    :param newShape: a list of four numbers[leftBottomX, leftBottomY, upperRightx, upperRighty]\n",
    "    :type sizeY: list\n",
    "    :returns: new map -- 2d matrix filled with 1/0\n",
    "    '''\n",
    "    "
   ]
  },
  {
   "cell_type": "markdown",
   "metadata": {},
   "source": [
    "## Ability to provide reusable code that answers the three computational requirements above."
   ]
  },
  {
   "cell_type": "markdown",
   "metadata": {},
   "source": [
    "###### Q1: Given an overall desired coverage footprint and a sequence of  n communications towers, what is the resulting resolved coverage?\n",
    "\n",
    "###### Q2: What is the total area of coverage relative to the desired total coverage area of the original footprint? That is, are there any gaps in coverage?\n",
    "    Since position and size of rectangles are randomly chosen, there must be gaps in coverage if n is not large enough.\n",
    "\n",
    "##### Q3: On average, how many communications towers are required before full coverage is obtained?"
   ]
  },
  {
   "cell_type": "markdown",
   "metadata": {},
   "source": [
    "## Thoughtful discussion of problem, trade-offs, limitations details, and analysis."
   ]
  },
  {
   "cell_type": "markdown",
   "metadata": {},
   "source": [
    "Altough I might have incomplete implementation, I would still analyze the result based on my assumption.\n",
    "As the above algorithm said, given the size of overall footprint size and number of desired towers, the program should be able to \n",
    "return the covered area."
   ]
  },
  {
   "cell_type": "markdown",
   "metadata": {},
   "source": [
    "#### Limitation of the algorithm:\n",
    "    Altough matrix filled with 1/0 is easy to understand and implement, it is space-expensive. If footprint contains millions of block/data points, \n",
    "    building the matrix would take too much memory. Besides, since I did an exaustive search when searching for maximum non-overlapped area, time and space\n",
    "    cost could be a big problem when footprint is too large.\n",
    "#### Trade-Offs:\n",
    "    Since both position and size of each rectangle/tower is randomly chosen, number of towers placed is the only factor. The more towers are placed, the more area is covered. However, more towers means more cost. Besides, at the end, some small gap might still remain but it may take several trials to cover it becuase of the randomness. So it is a trade off between cost and efficiency. "
   ]
  },
  {
   "cell_type": "markdown",
   "metadata": {},
   "source": [
    "## Effective use of static or dynamic visualizations to illustrate key insights of your solution."
   ]
  },
  {
   "cell_type": "code",
   "execution_count": 10,
   "metadata": {},
   "outputs": [
    {
     "data": {
      "image/png": "[encoded data removed]",
      "text/plain": [
       "<matplotlib.figure.Figure at 0x7fb475d24550>"
      ]
     },
     "metadata": {},
     "output_type": "display_data"
    }
   ],
   "source": [
    "import matplotlib.pyplot as plt\n",
    "plt.xlabel('width')\n",
    "plt.ylabel('height')\n",
    "plt.title('overall desired coverage footprint')\n",
    "plt.axis([0, 6, 0, 6])\n",
    "plt.grid(True)\n",
    "plt.show()"
   ]
  },
  {
   "cell_type": "code",
   "execution_count": null,
   "metadata": {
    "collapsed": true
   },
   "outputs": [],
   "source": []
  }
 ],
 "metadata": {
  "kernelspec": {
   "display_name": "Python 2",
   "language": "python",
   "name": "python2"
  },
  "language_info": {
   "codemirror_mode": {
    "name": "ipython",
    "version": 2
   },
   "file_extension": ".py",
   "mimetype": "text/x-python",
   "name": "python",
   "nbconvert_exporter": "python",
   "pygments_lexer": "ipython2",
   "version": "2.7.13"
  }
 },
 "nbformat": 4,
 "nbformat_minor": 2
}
